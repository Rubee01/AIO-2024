{
  "nbformat": 4,
  "nbformat_minor": 0,
  "metadata": {
    "colab": {
      "provenance": [],
      "authorship_tag": "ABX9TyOUciRdUSB4oAAdJrUriSyV",
      "include_colab_link": true
    },
    "kernelspec": {
      "name": "python3",
      "display_name": "Python 3"
    },
    "language_info": {
      "name": "python"
    }
  },
  "cells": [
    {
      "cell_type": "markdown",
      "metadata": {
        "id": "view-in-github",
        "colab_type": "text"
      },
      "source": [
        "<a href=\"https://colab.research.google.com/github/Rubee01/AIO-2024/blob/feature%2Fmodule2-week1/module2/week1/Tabular_Data_Analysis.ipynb\" target=\"_parent\"><img src=\"https://colab.research.google.com/assets/colab-badge.svg\" alt=\"Open In Colab\"/></a>"
      ]
    },
    {
      "cell_type": "code",
      "execution_count": 1,
      "metadata": {
        "colab": {
          "base_uri": "https://localhost:8080/"
        },
        "id": "_I4QkeVijNTo",
        "outputId": "a83c97fd-cc87-4b5c-e311-a6213751082f"
      },
      "outputs": [
        {
          "output_type": "stream",
          "name": "stdout",
          "text": [
            "Downloading...\n",
            "From: https://drive.google.com/uc?id=1iA0WmVfW88HyJvTBSQDI5vesf-pgKabq\n",
            "To: /content/advertising.csv\n",
            "\r  0% 0.00/4.06k [00:00<?, ?B/s]\r100% 4.06k/4.06k [00:00<00:00, 11.3MB/s]\n"
          ]
        }
      ],
      "source": [
        "!gdown 1iA0WmVfW88HyJvTBSQDI5vesf-pgKabq"
      ]
    },
    {
      "cell_type": "code",
      "source": [
        "import pandas as pd\n",
        "df = pd.read_csv('/content/advertising.csv')\n",
        "\n",
        "data = df.to_numpy()"
      ],
      "metadata": {
        "id": "1IflAivWj91R"
      },
      "execution_count": 2,
      "outputs": []
    },
    {
      "cell_type": "markdown",
      "source": [
        "Question 15:"
      ],
      "metadata": {
        "id": "XNBjLA6okzqs"
      }
    },
    {
      "cell_type": "code",
      "source": [
        "import numpy as np\n",
        "max_sales = np.max(data[:,3])\n",
        "max_index = np.argmax(data[:,3])\n",
        "max_sales, max_index"
      ],
      "metadata": {
        "colab": {
          "base_uri": "https://localhost:8080/"
        },
        "id": "AVMw_SKXkHCt",
        "outputId": "105c7b1a-67cc-4f82-c360-4585314be717"
      },
      "execution_count": 6,
      "outputs": [
        {
          "output_type": "execute_result",
          "data": {
            "text/plain": [
              "(27.0, 175)"
            ]
          },
          "metadata": {},
          "execution_count": 6
        }
      ]
    },
    {
      "cell_type": "markdown",
      "source": [
        "Question 16:"
      ],
      "metadata": {
        "id": "Cy_JYxfck4rh"
      }
    },
    {
      "cell_type": "code",
      "source": [
        "mean_tv = np.mean(data[:,0])\n",
        "mean_tv"
      ],
      "metadata": {
        "colab": {
          "base_uri": "https://localhost:8080/"
        },
        "id": "qXY3fTwQlOQp",
        "outputId": "b1bbbb55-84cd-4d84-cab0-71a19a112c3c"
      },
      "execution_count": 9,
      "outputs": [
        {
          "output_type": "execute_result",
          "data": {
            "text/plain": [
              "147.0425"
            ]
          },
          "metadata": {},
          "execution_count": 9
        }
      ]
    },
    {
      "cell_type": "markdown",
      "source": [
        "Question 17:"
      ],
      "metadata": {
        "id": "yheGT_4ullW_"
      }
    },
    {
      "cell_type": "code",
      "source": [
        "sales_more_20 = np.sum(data[:,3] >= 20)\n",
        "sales_more_20"
      ],
      "metadata": {
        "colab": {
          "base_uri": "https://localhost:8080/"
        },
        "id": "2dAFETyQlnYt",
        "outputId": "9202f98a-fa50-438f-c236-0ac46f2830be"
      },
      "execution_count": 11,
      "outputs": [
        {
          "output_type": "execute_result",
          "data": {
            "text/plain": [
              "40"
            ]
          },
          "metadata": {},
          "execution_count": 11
        }
      ]
    },
    {
      "cell_type": "markdown",
      "source": [
        "Question 18:"
      ],
      "metadata": {
        "id": "2e1ge9vUnJJL"
      }
    },
    {
      "cell_type": "code",
      "source": [
        "sales_cond = data[:,3] >= 15\n",
        "radio_data = data[:, 1] * sales_cond\n",
        "radio_mean = np.sum(radio_data) / np.sum(sales_cond)\n",
        "radio_mean"
      ],
      "metadata": {
        "colab": {
          "base_uri": "https://localhost:8080/"
        },
        "id": "OksHTFqDnL79",
        "outputId": "7da997bf-3d46-46e5-fda8-7b68e253520d"
      },
      "execution_count": 19,
      "outputs": [
        {
          "output_type": "execute_result",
          "data": {
            "text/plain": [
              "26.222935779816517"
            ]
          },
          "metadata": {},
          "execution_count": 19
        }
      ]
    },
    {
      "cell_type": "markdown",
      "source": [
        "Question 19:"
      ],
      "metadata": {
        "id": "r4TkDQenqh3u"
      }
    },
    {
      "cell_type": "code",
      "source": [
        "news_cond = data[:, 2] > np.mean(data[:, 2])\n",
        "sales_data = data[:, 3] * news_cond\n",
        "sales_total = np.sum(sales_data)\n",
        "sales_total"
      ],
      "metadata": {
        "colab": {
          "base_uri": "https://localhost:8080/"
        },
        "id": "KyJrjpGbqkfA",
        "outputId": "fd6ae542-714a-4feb-f927-cf6ae31e2d35"
      },
      "execution_count": 22,
      "outputs": [
        {
          "output_type": "execute_result",
          "data": {
            "text/plain": [
              "1405.1"
            ]
          },
          "metadata": {},
          "execution_count": 22
        }
      ]
    },
    {
      "cell_type": "markdown",
      "source": [
        "Question 20:"
      ],
      "metadata": {
        "id": "J68iGXTirwO-"
      }
    },
    {
      "cell_type": "code",
      "source": [
        "sales_data = data[:, 3]\n",
        "sales_mean = np.mean(sales_data)\n",
        "scores_sales = np.where(sales_data > sales_mean,\n",
        "                     \"Good\",\n",
        "                     np.where(sales_data < sales_mean, \"Bad\", \"Average\"))\n",
        "scores_sales[7:10]"
      ],
      "metadata": {
        "colab": {
          "base_uri": "https://localhost:8080/"
        },
        "id": "m05N0sXor2u2",
        "outputId": "ee405846-28ab-414e-8adb-0a622e2555c8"
      },
      "execution_count": 25,
      "outputs": [
        {
          "output_type": "execute_result",
          "data": {
            "text/plain": [
              "array(['Bad', 'Bad', 'Good'], dtype='<U7')"
            ]
          },
          "metadata": {},
          "execution_count": 25
        }
      ]
    },
    {
      "cell_type": "markdown",
      "source": [
        "Question 21:"
      ],
      "metadata": {
        "id": "4DUo_4eyr06G"
      }
    },
    {
      "cell_type": "code",
      "source": [
        "sales_data = data[:, 3]\n",
        "sales_mean = np.mean(sales_data)\n",
        "sub_mean = sales_data - sales_mean\n",
        "sub_abs = abs(sub_mean)\n",
        "average_idx = np.argmin(sub_abs)\n",
        "sales_average = sales_data[average_idx]\n",
        "scores_sales = np.where(sales_data > sales_average,\n",
        "                     \"Good\",\n",
        "                     np.where(sales_data < sales_average, \"Bad\", \"Average\"))\n",
        "scores_sales[7:10]"
      ],
      "metadata": {
        "colab": {
          "base_uri": "https://localhost:8080/"
        },
        "id": "ztNTjXlVtuhZ",
        "outputId": "45d57780-3b93-4605-f887-33af1daafe68"
      },
      "execution_count": 31,
      "outputs": [
        {
          "output_type": "execute_result",
          "data": {
            "text/plain": [
              "array(['Bad', 'Bad', 'Good'], dtype='<U7')"
            ]
          },
          "metadata": {},
          "execution_count": 31
        }
      ]
    }
  ]
}